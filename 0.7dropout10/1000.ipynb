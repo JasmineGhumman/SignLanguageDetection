{
  "nbformat": 4,
  "nbformat_minor": 0,
  "metadata": {
    "colab": {
      "name": "ASLoverfitting.ipynb",
      "version": "0.3.2",
      "provenance": [],
      "include_colab_link": true
    },
    "kernelspec": {
      "name": "python3",
      "display_name": "Python 3"
    },
    "accelerator": "GPU"
  },
  "cells": [
    {
      "cell_type": "markdown",
      "metadata": {
        "id": "view-in-github",
        "colab_type": "text"
      },
      "source": [
        "<a href=\"https://colab.research.google.com/github/JasmineGhumman/SignLanguageDetection/blob/master/0.7dropout10/1000.ipynb\" target=\"_parent\"><img src=\"https://colab.research.google.com/assets/colab-badge.svg\" alt=\"Open In Colab\"/></a>"
      ]
    },
    {
      "metadata": {
        "id": "xajr70eVz7M4",
        "colab_type": "code",
        "colab": {}
      },
      "cell_type": "code",
      "source": [
        "# Install the PyDrive wrapper & import libraries.\n",
        "# This only needs to be done once per notebook.\n",
        "!pip install -U -q PyDrive\n",
        "from pydrive.auth import GoogleAuth\n",
        "from pydrive.drive import GoogleDrive\n",
        "from google.colab import auth\n",
        "from oauth2client.client import GoogleCredentials\n",
        "\n",
        "# Authenticate and create the PyDrive client.\n",
        "# This only needs to be done once per notebook.\n",
        "auth.authenticate_user()\n",
        "gauth = GoogleAuth()\n",
        "gauth.credentials = GoogleCredentials.get_application_default()\n",
        "drive = GoogleDrive(gauth)\n",
        "\n"
      ],
      "execution_count": 0,
      "outputs": []
    },
    {
      "metadata": {
        "id": "JKoCYjq60jTx",
        "colab_type": "code",
        "colab": {}
      },
      "cell_type": "code",
      "source": [
        "# Download a file based on its file ID.\n",
        "#\n",
        "# A file ID looks like: laggVyWshwcyP6kEI-y_W3P8D26sz\n",
        "'''\n",
        "file_id = '1sNVHpcnPHZiDaSQ6DhhxY1ZbdEByi5gk'\n",
        "downloaded = drive.CreateFile({'id': file_id})\n",
        "print('Downloaded content \"{}\"'.format(downloaded.GetContentString()))\n",
        "'''\n",
        "\n",
        "fid = drive.ListFile({'q':\"title='mydata.zip'\"}).GetList()[0]['id']\n",
        "f = drive.CreateFile({'id': fid})\n",
        "f.GetContentFile('mydata.zip')"
      ],
      "execution_count": 0,
      "outputs": []
    },
    {
      "metadata": {
        "id": "FWRBb2ht0jkq",
        "colab_type": "code",
        "colab": {}
      },
      "cell_type": "code",
      "source": [
        "!unzip mydata"
      ],
      "execution_count": 0,
      "outputs": []
    },
    {
      "metadata": {
        "id": "j-hCzsmW0jv8",
        "colab_type": "code",
        "colab": {}
      },
      "cell_type": "code",
      "source": [
        "import numpy as np # linear algebra\n",
        "import pandas as pd # data processing, CSV file I/O (e.g. pd.read_csv)\n",
        "\n",
        "# Input data files are available in the \"../input/\" directory.\n",
        "# For example, running this (by clicking run or pressing Shift+Enter) will list the files in the input directory\n",
        "\n",
        "import os\n",
        "\n",
        "\n",
        "# Any results you write to the current directory are saved as output.import numpy as np # linear algebra\n"
      ],
      "execution_count": 0,
      "outputs": []
    },
    {
      "metadata": {
        "id": "PM0kNvpG0j29",
        "colab_type": "code",
        "colab": {
          "base_uri": "https://localhost:8080/",
          "height": 34
        },
        "outputId": "5504159e-61b5-4a72-c28e-c96ed60d0f30"
      },
      "cell_type": "code",
      "source": [
        "#!pip uninstall keras\n",
        "#!pip install keras==2.0.9\n",
        "from keras.models import Sequential\n",
        "from keras.layers import Convolution2D\n",
        "from keras.layers import MaxPooling2D\n",
        "from keras.layers import Flatten\n",
        "from keras.layers import Dense, Dropout\n",
        "from keras import optimizers\n",
        "from keras.models import Model\n",
        "from keras.layers import (Activation, Dropout, Flatten, Dense, GlobalMaxPooling2D,GlobalAveragePooling2D,\n",
        "                          BatchNormalization, Input, Conv2D, Concatenate)\n",
        "'''from keras.applications import InceptionResNetV2\n",
        "conv_base= InceptionResNetV2(weights='imagenet',include_top=False,input_shape=(75,75,3))'''\n",
        "\n",
        "import keras\n",
        "import numpy as np\n",
        "from keras.applications.resnet50 import ResNet50"
      ],
      "execution_count": 7,
      "outputs": [
        {
          "output_type": "stream",
          "text": [
            "Using TensorFlow backend.\n"
          ],
          "name": "stderr"
        }
      ]
    },
    {
      "metadata": {
        "id": "QFW5MMIX0j8A",
        "colab_type": "code",
        "colab": {
          "base_uri": "https://localhost:8080/",
          "height": 222
        },
        "outputId": "aad8c8ca-71b1-4a04-a277-b4309ba50a6e"
      },
      "cell_type": "code",
      "source": [
        "res_weights_path = \"resnet50_weights.hd\"\n",
        "print(\"[INFO] loading ..\" )\n",
        "#model = ResNet50(include_top=False,input_shape=(64, 64, 3))\n",
        "base_model =ResNet50(weights='imagenet', include_top=False)\n",
        "#my_model_2 = ResNet50(weights='imagenet')\n",
        "#base_model.load_weights('../input/ResNet-50/resnet50_weights_tf_dim_ordering_tf_kernels_notop.h5')\n",
        "# include_top= False means that we won’t be keeping the Fully-Connected (FC) layers at the end of the model\n",
        "\n",
        "\n",
        "x0 = base_model.output\n",
        "x1 = GlobalAveragePooling2D()(x0)\n",
        "x2 = GlobalMaxPooling2D()(x0)\n",
        "x = Concatenate()([x1,x2])\n",
        "x = BatchNormalization()(x)\n",
        "x = Dropout(0.7)(x)\n",
        "x = Dense(2048, activation='relu')(x)\n",
        "x = BatchNormalization()(x)\n",
        "x = Dropout(0.7)(x)\n",
        "predictions = Dense(26, activation='sigmoid')(x)\n",
        "model = Model(inputs=base_model.input, outputs=predictions)"
      ],
      "execution_count": 8,
      "outputs": [
        {
          "output_type": "stream",
          "text": [
            "[INFO] loading ..\n",
            "WARNING:tensorflow:From /usr/local/lib/python3.6/dist-packages/tensorflow/python/framework/op_def_library.py:263: colocate_with (from tensorflow.python.framework.ops) is deprecated and will be removed in a future version.\n",
            "Instructions for updating:\n",
            "Colocations handled automatically by placer.\n"
          ],
          "name": "stdout"
        },
        {
          "output_type": "stream",
          "text": [
            "/usr/local/lib/python3.6/dist-packages/keras_applications/resnet50.py:265: UserWarning: The output shape of `ResNet50(include_top=False)` has been changed since Keras 2.2.0.\n",
            "  warnings.warn('The output shape of `ResNet50(include_top=False)` '\n"
          ],
          "name": "stderr"
        },
        {
          "output_type": "stream",
          "text": [
            "Downloading data from https://github.com/fchollet/deep-learning-models/releases/download/v0.2/resnet50_weights_tf_dim_ordering_tf_kernels_notop.h5\n",
            "94658560/94653016 [==============================] - 10s 0us/step\n",
            "WARNING:tensorflow:From /usr/local/lib/python3.6/dist-packages/keras/backend/tensorflow_backend.py:3445: calling dropout (from tensorflow.python.ops.nn_ops) with keep_prob is deprecated and will be removed in a future version.\n",
            "Instructions for updating:\n",
            "Please use `rate` instead of `keep_prob`. Rate should be set to `rate = 1 - keep_prob`.\n"
          ],
          "name": "stdout"
        }
      ]
    },
    {
      "metadata": {
        "id": "zoJoCtvo0j1J",
        "colab_type": "code",
        "colab": {}
      },
      "cell_type": "code",
      "source": [
        "for layer in model.layers:\n",
        "    layer.trainable = False\n",
        "\n",
        "for i in range(-6,0):\n",
        "    model.layers[i].trainable = True\n",
        "\n",
        "model.compile(\n",
        "    loss='binary_crossentropy',\n",
        "    optimizer=optimizers.SGD(lr = 0.01),metrics=['accuracy'])\n",
        "\n",
        "#model.summary()"
      ],
      "execution_count": 0,
      "outputs": []
    },
    {
      "metadata": {
        "id": "FBKIX6vA0jzF",
        "colab_type": "code",
        "colab": {
          "base_uri": "https://localhost:8080/",
          "height": 50
        },
        "outputId": "1890b723-3350-4da9-9521-a33db32ec79f"
      },
      "cell_type": "code",
      "source": [
        "#Part 2 Fittting the CNN to the image\n",
        "from keras.preprocessing.image import ImageDataGenerator\n",
        "train_datagen = ImageDataGenerator(\n",
        "        rescale=1./255,\n",
        "        shear_range=0.2,\n",
        "        zoom_range=0.2,\n",
        "        horizontal_flip=True)\n",
        "\n",
        "test_datagen = ImageDataGenerator(rescale=1./255)\n",
        "\n",
        "training_set = train_datagen.flow_from_directory(\n",
        "        'mydata/train',\n",
        "        target_size=(224, 224),\n",
        "        batch_size=32,\n",
        "        class_mode='categorical')\n",
        "\n",
        "test_set = test_datagen.flow_from_directory(\n",
        "        'mydata/test',\n",
        "        target_size=(224, 224),\n",
        "        batch_size=32,\n",
        "        class_mode='categorical')\n"
      ],
      "execution_count": 11,
      "outputs": [
        {
          "output_type": "stream",
          "text": [
            "Found 68250 images belonging to 26 classes.\n",
            "Found 9775 images belonging to 26 classes.\n"
          ],
          "name": "stdout"
        }
      ]
    },
    {
      "metadata": {
        "id": "h_rb0NmZ0jtt",
        "colab_type": "code",
        "colab": {
          "base_uri": "https://localhost:8080/",
          "height": 423
        },
        "outputId": "8c4dc972-f1b7-4de5-c7eb-12dc3504f6bc"
      },
      "cell_type": "code",
      "source": [
        "moDel = model.fit_generator(\n",
        "        training_set,\n",
        "        steps_per_epoch=1000,\n",
        "        epochs=10,\n",
        "        validation_data = test_set,\n",
        "        validation_steps = 200\n",
        "      )\n",
        "\n",
        "#Saving the model\n",
        "import h5py\n",
        "model.save('Trained_model.h5')\n",
        "modelcheckpoint = keras.callbacks.ModelCheckpoint(\"keras.model\",verbose=1)\n"
      ],
      "execution_count": 12,
      "outputs": [
        {
          "output_type": "stream",
          "text": [
            "WARNING:tensorflow:From /usr/local/lib/python3.6/dist-packages/tensorflow/python/ops/math_ops.py:3066: to_int32 (from tensorflow.python.ops.math_ops) is deprecated and will be removed in a future version.\n",
            "Instructions for updating:\n",
            "Use tf.cast instead.\n",
            "Epoch 1/10\n",
            "1000/1000 [==============================] - 465s 465ms/step - loss: 1.0364 - acc: 0.5522 - val_loss: 0.7565 - val_acc: 0.5514\n",
            "Epoch 2/10\n",
            "1000/1000 [==============================] - 455s 455ms/step - loss: 0.6623 - acc: 0.6895 - val_loss: 0.4896 - val_acc: 0.7518\n",
            "Epoch 3/10\n",
            "1000/1000 [==============================] - 457s 457ms/step - loss: 0.3678 - acc: 0.8402 - val_loss: 0.2736 - val_acc: 0.9614\n",
            "Epoch 4/10\n",
            "1000/1000 [==============================] - 456s 456ms/step - loss: 0.2336 - acc: 0.9147 - val_loss: 0.1958 - val_acc: 0.9615\n",
            "Epoch 5/10\n",
            "1000/1000 [==============================] - 456s 456ms/step - loss: 0.1833 - acc: 0.9401 - val_loss: 0.1836 - val_acc: 0.9615\n",
            "Epoch 6/10\n",
            "1000/1000 [==============================] - 451s 451ms/step - loss: 0.1584 - acc: 0.9505 - val_loss: 0.1747 - val_acc: 0.9615\n",
            "Epoch 7/10\n",
            "1000/1000 [==============================] - 457s 457ms/step - loss: 0.1457 - acc: 0.9548 - val_loss: 0.1743 - val_acc: 0.9615\n",
            "Epoch 8/10\n",
            "1000/1000 [==============================] - 455s 455ms/step - loss: 0.1355 - acc: 0.9579 - val_loss: 0.1743 - val_acc: 0.9615\n",
            "Epoch 9/10\n",
            "1000/1000 [==============================] - 456s 456ms/step - loss: 0.1271 - acc: 0.9600 - val_loss: 0.1757 - val_acc: 0.9615\n",
            "Epoch 10/10\n",
            "1000/1000 [==============================] - 453s 453ms/step - loss: 0.1209 - acc: 0.9615 - val_loss: 0.1748 - val_acc: 0.9615\n"
          ],
          "name": "stdout"
        }
      ]
    },
    {
      "metadata": {
        "id": "BJ139fnP0jqP",
        "colab_type": "code",
        "colab": {}
      },
      "cell_type": "code",
      "source": [
        "#download model from lhs files.Save on computer. t"
      ],
      "execution_count": 0,
      "outputs": []
    },
    {
      "metadata": {
        "id": "ZcrBhxCZ0joG",
        "colab_type": "code",
        "colab": {}
      },
      "cell_type": "code",
      "source": [
        ""
      ],
      "execution_count": 0,
      "outputs": []
    }
  ]
}