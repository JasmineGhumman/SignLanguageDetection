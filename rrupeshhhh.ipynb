{
  "nbformat": 4,
  "nbformat_minor": 0,
  "metadata": {
    "colab": {
      "name": "rrupeshhhh.ipynb",
      "version": "0.3.2",
      "provenance": [],
      "include_colab_link": true
    },
    "kernelspec": {
      "name": "python3",
      "display_name": "Python 3"
    },
    "accelerator": "GPU"
  },
  "cells": [
    {
      "cell_type": "markdown",
      "metadata": {
        "id": "view-in-github",
        "colab_type": "text"
      },
      "source": [
        "<a href=\"https://colab.research.google.com/github/JasmineGhumman/SignLanguageDetection/blob/master/rrupeshhhh.ipynb\" target=\"_parent\"><img src=\"https://colab.research.google.com/assets/colab-badge.svg\" alt=\"Open In Colab\"/></a>"
      ]
    },
    {
      "cell_type": "code",
      "metadata": {
        "id": "xajr70eVz7M4",
        "colab_type": "code",
        "outputId": "e2f4d2ce-5267-467c-c1f9-03b3fc28aa28",
        "colab": {
          "base_uri": "https://localhost:8080/",
          "height": 50
        }
      },
      "source": [
        "# Install the PyDrive wrapper & import libraries.\n",
        "# This only needs to be done once per notebook.\n",
        "!pip install -U -q PyDrive\n",
        "from pydrive.auth import GoogleAuth\n",
        "from pydrive.drive import GoogleDrive\n",
        "from google.colab import auth\n",
        "from oauth2client.client import GoogleCredentials\n",
        "\n",
        "# Authenticate and create the PyDrive client.\n",
        "# This only needs to be done once per notebook.\n",
        "auth.authenticate_user()\n",
        "gauth = GoogleAuth()\n",
        "gauth.credentials = GoogleCredentials.get_application_default()\n",
        "drive = GoogleDrive(gauth)\n",
        "\n"
      ],
      "execution_count": 1,
      "outputs": [
        {
          "output_type": "stream",
          "text": [
            "\u001b[?25l\r\u001b[K     |▎                               | 10kB 22.8MB/s eta 0:00:01\r\u001b[K     |▋                               | 20kB 3.1MB/s eta 0:00:01\r\u001b[K     |█                               | 30kB 4.5MB/s eta 0:00:01\r\u001b[K     |█▎                              | 40kB 2.9MB/s eta 0:00:01\r\u001b[K     |█▋                              | 51kB 3.6MB/s eta 0:00:01\r\u001b[K     |██                              | 61kB 4.3MB/s eta 0:00:01\r\u001b[K     |██▎                             | 71kB 4.9MB/s eta 0:00:01\r\u001b[K     |██▋                             | 81kB 5.5MB/s eta 0:00:01\r\u001b[K     |███                             | 92kB 6.2MB/s eta 0:00:01\r\u001b[K     |███▎                            | 102kB 4.8MB/s eta 0:00:01\r\u001b[K     |███▋                            | 112kB 4.8MB/s eta 0:00:01\r\u001b[K     |████                            | 122kB 4.8MB/s eta 0:00:01\r\u001b[K     |████▎                           | 133kB 4.8MB/s eta 0:00:01\r\u001b[K     |████▋                           | 143kB 4.8MB/s eta 0:00:01\r\u001b[K     |█████                           | 153kB 4.8MB/s eta 0:00:01\r\u001b[K     |█████▎                          | 163kB 4.8MB/s eta 0:00:01\r\u001b[K     |█████▋                          | 174kB 4.8MB/s eta 0:00:01\r\u001b[K     |██████                          | 184kB 4.8MB/s eta 0:00:01\r\u001b[K     |██████▎                         | 194kB 4.8MB/s eta 0:00:01\r\u001b[K     |██████▋                         | 204kB 4.8MB/s eta 0:00:01\r\u001b[K     |███████                         | 215kB 4.8MB/s eta 0:00:01\r\u001b[K     |███████▎                        | 225kB 4.8MB/s eta 0:00:01\r\u001b[K     |███████▋                        | 235kB 4.8MB/s eta 0:00:01\r\u001b[K     |████████                        | 245kB 4.8MB/s eta 0:00:01\r\u001b[K     |████████▎                       | 256kB 4.8MB/s eta 0:00:01\r\u001b[K     |████████▋                       | 266kB 4.8MB/s eta 0:00:01\r\u001b[K     |█████████                       | 276kB 4.8MB/s eta 0:00:01\r\u001b[K     |█████████▎                      | 286kB 4.8MB/s eta 0:00:01\r\u001b[K     |█████████▋                      | 296kB 4.8MB/s eta 0:00:01\r\u001b[K     |██████████                      | 307kB 4.8MB/s eta 0:00:01\r\u001b[K     |██████████▎                     | 317kB 4.8MB/s eta 0:00:01\r\u001b[K     |██████████▋                     | 327kB 4.8MB/s eta 0:00:01\r\u001b[K     |███████████                     | 337kB 4.8MB/s eta 0:00:01\r\u001b[K     |███████████▎                    | 348kB 4.8MB/s eta 0:00:01\r\u001b[K     |███████████▋                    | 358kB 4.8MB/s eta 0:00:01\r\u001b[K     |████████████                    | 368kB 4.8MB/s eta 0:00:01\r\u001b[K     |████████████▎                   | 378kB 4.8MB/s eta 0:00:01\r\u001b[K     |████████████▋                   | 389kB 4.8MB/s eta 0:00:01\r\u001b[K     |█████████████                   | 399kB 4.8MB/s eta 0:00:01\r\u001b[K     |█████████████▎                  | 409kB 4.8MB/s eta 0:00:01\r\u001b[K     |█████████████▋                  | 419kB 4.8MB/s eta 0:00:01\r\u001b[K     |██████████████                  | 430kB 4.8MB/s eta 0:00:01\r\u001b[K     |██████████████▎                 | 440kB 4.8MB/s eta 0:00:01\r\u001b[K     |██████████████▋                 | 450kB 4.8MB/s eta 0:00:01\r\u001b[K     |███████████████                 | 460kB 4.8MB/s eta 0:00:01\r\u001b[K     |███████████████▎                | 471kB 4.8MB/s eta 0:00:01\r\u001b[K     |███████████████▋                | 481kB 4.8MB/s eta 0:00:01\r\u001b[K     |████████████████                | 491kB 4.8MB/s eta 0:00:01\r\u001b[K     |████████████████▎               | 501kB 4.8MB/s eta 0:00:01\r\u001b[K     |████████████████▋               | 512kB 4.8MB/s eta 0:00:01\r\u001b[K     |█████████████████               | 522kB 4.8MB/s eta 0:00:01\r\u001b[K     |█████████████████▎              | 532kB 4.8MB/s eta 0:00:01\r\u001b[K     |█████████████████▋              | 542kB 4.8MB/s eta 0:00:01\r\u001b[K     |██████████████████              | 552kB 4.8MB/s eta 0:00:01\r\u001b[K     |██████████████████▎             | 563kB 4.8MB/s eta 0:00:01\r\u001b[K     |██████████████████▋             | 573kB 4.8MB/s eta 0:00:01\r\u001b[K     |███████████████████             | 583kB 4.8MB/s eta 0:00:01\r\u001b[K     |███████████████████▎            | 593kB 4.8MB/s eta 0:00:01\r\u001b[K     |███████████████████▋            | 604kB 4.8MB/s eta 0:00:01\r\u001b[K     |████████████████████            | 614kB 4.8MB/s eta 0:00:01\r\u001b[K     |████████████████████▎           | 624kB 4.8MB/s eta 0:00:01\r\u001b[K     |████████████████████▋           | 634kB 4.8MB/s eta 0:00:01\r\u001b[K     |█████████████████████           | 645kB 4.8MB/s eta 0:00:01\r\u001b[K     |█████████████████████▎          | 655kB 4.8MB/s eta 0:00:01\r\u001b[K     |█████████████████████▋          | 665kB 4.8MB/s eta 0:00:01\r\u001b[K     |██████████████████████          | 675kB 4.8MB/s eta 0:00:01\r\u001b[K     |██████████████████████▎         | 686kB 4.8MB/s eta 0:00:01\r\u001b[K     |██████████████████████▋         | 696kB 4.8MB/s eta 0:00:01\r\u001b[K     |███████████████████████         | 706kB 4.8MB/s eta 0:00:01\r\u001b[K     |███████████████████████▎        | 716kB 4.8MB/s eta 0:00:01\r\u001b[K     |███████████████████████▋        | 727kB 4.8MB/s eta 0:00:01\r\u001b[K     |████████████████████████        | 737kB 4.8MB/s eta 0:00:01\r\u001b[K     |████████████████████████▎       | 747kB 4.8MB/s eta 0:00:01\r\u001b[K     |████████████████████████▋       | 757kB 4.8MB/s eta 0:00:01\r\u001b[K     |████████████████████████▉       | 768kB 4.8MB/s eta 0:00:01\r\u001b[K     |█████████████████████████▏      | 778kB 4.8MB/s eta 0:00:01\r\u001b[K     |█████████████████████████▌      | 788kB 4.8MB/s eta 0:00:01\r\u001b[K     |█████████████████████████▉      | 798kB 4.8MB/s eta 0:00:01\r\u001b[K     |██████████████████████████▏     | 808kB 4.8MB/s eta 0:00:01\r\u001b[K     |██████████████████████████▌     | 819kB 4.8MB/s eta 0:00:01\r\u001b[K     |██████████████████████████▉     | 829kB 4.8MB/s eta 0:00:01\r\u001b[K     |███████████████████████████▏    | 839kB 4.8MB/s eta 0:00:01\r\u001b[K     |███████████████████████████▌    | 849kB 4.8MB/s eta 0:00:01\r\u001b[K     |███████████████████████████▉    | 860kB 4.8MB/s eta 0:00:01\r\u001b[K     |████████████████████████████▏   | 870kB 4.8MB/s eta 0:00:01\r\u001b[K     |████████████████████████████▌   | 880kB 4.8MB/s eta 0:00:01\r\u001b[K     |████████████████████████████▉   | 890kB 4.8MB/s eta 0:00:01\r\u001b[K     |█████████████████████████████▏  | 901kB 4.8MB/s eta 0:00:01\r\u001b[K     |█████████████████████████████▌  | 911kB 4.8MB/s eta 0:00:01\r\u001b[K     |█████████████████████████████▉  | 921kB 4.8MB/s eta 0:00:01\r\u001b[K     |██████████████████████████████▏ | 931kB 4.8MB/s eta 0:00:01\r\u001b[K     |██████████████████████████████▌ | 942kB 4.8MB/s eta 0:00:01\r\u001b[K     |██████████████████████████████▉ | 952kB 4.8MB/s eta 0:00:01\r\u001b[K     |███████████████████████████████▏| 962kB 4.8MB/s eta 0:00:01\r\u001b[K     |███████████████████████████████▌| 972kB 4.8MB/s eta 0:00:01\r\u001b[K     |███████████████████████████████▉| 983kB 4.8MB/s eta 0:00:01\r\u001b[K     |████████████████████████████████| 993kB 4.8MB/s \n",
            "\u001b[?25h  Building wheel for PyDrive (setup.py) ... \u001b[?25l\u001b[?25hdone\n"
          ],
          "name": "stdout"
        }
      ]
    },
    {
      "cell_type": "code",
      "metadata": {
        "id": "JKoCYjq60jTx",
        "colab_type": "code",
        "colab": {}
      },
      "source": [
        "# Download a file based on its file ID.\n",
        "#\n",
        "# A file ID looks like: laggVyWshwcyP6kEI-y_W3P8D26sz\n",
        "'''\n",
        "file_id = '1sNVHpcnPHZiDaSQ6DhhxY1ZbdEByi5gk'\n",
        "downloaded = drive.CreateFile({'id': file_id})\n",
        "print('Downloaded content \"{}\"'.format(downloaded.GetContentString()))\n",
        "'''\n",
        "\n",
        "fid = drive.ListFile({'q':\"title='mydata.zip'\"}).GetList()[0]['id']\n",
        "f = drive.CreateFile({'id': fid})\n",
        "f.GetContentFile('mydata.zip')"
      ],
      "execution_count": 0,
      "outputs": []
    },
    {
      "cell_type": "code",
      "metadata": {
        "id": "FWRBb2ht0jkq",
        "colab_type": "code",
        "colab": {}
      },
      "source": [
        "!unzip mydata"
      ],
      "execution_count": 0,
      "outputs": []
    },
    {
      "cell_type": "code",
      "metadata": {
        "id": "j-hCzsmW0jv8",
        "colab_type": "code",
        "colab": {
          "base_uri": "https://localhost:8080/",
          "height": 1114
        },
        "outputId": "833df88b-d759-4e5e-c897-0549c25f2e28"
      },
      "source": [
        "# Part 1 - Building the CNN\n",
        "#importing the Keras libraries and packages\n",
        "from keras.models import Sequential\n",
        "from keras.layers import Convolution2D\n",
        "from keras.layers import MaxPooling2D\n",
        "from keras.layers import Flatten\n",
        "from keras.layers import Dense, Dropout\n",
        "from keras import optimizers\n",
        "\n",
        "# Initialing the CNN\n",
        "classifier = Sequential()\n",
        "\n",
        "# Step 1 - Convolutio Layer \n",
        "classifier.add(Convolution2D(32, 3,  3, input_shape = (64, 64, 3), activation = 'relu'))\n",
        "\n",
        "#step 2 - Pooling\n",
        "classifier.add(MaxPooling2D(pool_size =(2,2)))\n",
        "\n",
        "# Adding second convolution layer\n",
        "classifier.add(Convolution2D(32, 3,  3, activation = 'relu'))\n",
        "classifier.add(MaxPooling2D(pool_size =(2,2)))\n",
        "\n",
        "#Adding 3rd Concolution Layer\n",
        "classifier.add(Convolution2D(64, 3,  3, activation = 'relu'))\n",
        "classifier.add(MaxPooling2D(pool_size =(2,2)))\n",
        "\n",
        "\n",
        "#Step 3 - Flattening\n",
        "classifier.add(Flatten())\n",
        "\n",
        "#Step 4 - Full Connection\n",
        "classifier.add(Dense(256, activation = 'relu'))\n",
        "classifier.add(Dropout(0.5))\n",
        "classifier.add(Dense(26, activation = 'softmax'))\n",
        "\n",
        "#Compiling The CNN\n",
        "classifier.compile(\n",
        "              optimizer = optimizers.SGD(lr = 0.01),\n",
        "              loss = 'categorical_crossentropy',\n",
        "              metrics = ['accuracy'])\n",
        "\n",
        "#Part 2 Fittting the CNN to the image\n",
        "from keras.preprocessing.image import ImageDataGenerator\n",
        "train_datagen = ImageDataGenerator(\n",
        "        rescale=1./255,\n",
        "        shear_range=0.2,\n",
        "        zoom_range=0.2,\n",
        "        horizontal_flip=True)\n",
        "\n",
        "test_datagen = ImageDataGenerator(rescale=1./255)\n",
        "\n",
        "training_set = train_datagen.flow_from_directory(\n",
        "        'mydata/train',\n",
        "        target_size=(64, 64),\n",
        "        batch_size=32,\n",
        "        class_mode='categorical')\n",
        "\n",
        "test_set = test_datagen.flow_from_directory(\n",
        "        'mydata/test',\n",
        "        target_size=(64, 64),\n",
        "        batch_size=32,\n",
        "        class_mode='categorical')\n",
        "\n",
        "model = classifier.fit_generator(\n",
        "        training_set,\n",
        "        steps_per_epoch=800,\n",
        "        epochs=12,\n",
        "        validation_data = test_set,\n",
        "        validation_steps = 6500\n",
        "      )\n",
        "\n",
        "#Saving the model\n",
        "import h5py\n",
        "classifier.save('Trained_model.h5')\n",
        "\n",
        "print(model.history.keys())\n",
        "import matplotlib.pyplot as plt\n",
        "# summarize history for accuracy\n",
        "plt.plot(model.history['acc'])\n",
        "plt.plot(model.history['val_acc'])\n",
        "plt.title('model accuracy')\n",
        "plt.ylabel('accuracy')\n",
        "plt.xlabel('epoch')\n",
        "plt.legend(['train', 'test'], loc='upper left')\n",
        "plt.show()\n",
        "# summarize history for loss\n",
        "\n",
        "plt.plot(model.history['loss'])\n",
        "plt.plot(model.history['val_loss'])\n",
        "plt.title('model loss')\n",
        "plt.ylabel('loss')\n",
        "plt.xlabel('epoch')\n",
        "plt.legend(['train', 'test'], loc='upper left')\n",
        "plt.show()"
      ],
      "execution_count": 6,
      "outputs": [
        {
          "output_type": "stream",
          "text": [
            "/usr/local/lib/python3.6/dist-packages/ipykernel_launcher.py:12: UserWarning: Update your `Conv2D` call to the Keras 2 API: `Conv2D(32, (3, 3), input_shape=(64, 64, 3..., activation=\"relu\")`\n",
            "  if sys.path[0] == '':\n",
            "/usr/local/lib/python3.6/dist-packages/ipykernel_launcher.py:18: UserWarning: Update your `Conv2D` call to the Keras 2 API: `Conv2D(32, (3, 3), activation=\"relu\")`\n",
            "/usr/local/lib/python3.6/dist-packages/ipykernel_launcher.py:22: UserWarning: Update your `Conv2D` call to the Keras 2 API: `Conv2D(64, (3, 3), activation=\"relu\")`\n"
          ],
          "name": "stderr"
        },
        {
          "output_type": "stream",
          "text": [
            "Found 68250 images belonging to 26 classes.\n",
            "Found 9775 images belonging to 26 classes.\n",
            "Epoch 1/12\n",
            "800/800 [==============================] - 410s 513ms/step - loss: 3.2539 - acc: 0.0460 - val_loss: 3.2427 - val_acc: 0.0399\n",
            "Epoch 2/12\n",
            "800/800 [==============================] - 412s 515ms/step - loss: 3.2293 - acc: 0.0672 - val_loss: 3.1831 - val_acc: 0.1074\n",
            "Epoch 3/12\n",
            "800/800 [==============================] - 408s 510ms/step - loss: 3.1385 - acc: 0.0910 - val_loss: 2.9830 - val_acc: 0.1546\n",
            "Epoch 4/12\n",
            "800/800 [==============================] - 408s 510ms/step - loss: 2.9227 - acc: 0.1402 - val_loss: 2.6175 - val_acc: 0.2296\n",
            "Epoch 5/12\n",
            "800/800 [==============================] - 409s 511ms/step - loss: 2.5910 - acc: 0.2212 - val_loss: 2.2139 - val_acc: 0.3273\n",
            "Epoch 6/12\n",
            "800/800 [==============================] - 407s 509ms/step - loss: 2.2364 - acc: 0.3038 - val_loss: 1.7754 - val_acc: 0.4728\n",
            "Epoch 7/12\n",
            "800/800 [==============================] - 404s 505ms/step - loss: 1.9727 - acc: 0.3711 - val_loss: 1.4878 - val_acc: 0.5436\n",
            "Epoch 8/12\n",
            "800/800 [==============================] - 404s 505ms/step - loss: 1.7402 - acc: 0.4335 - val_loss: 1.2728 - val_acc: 0.6231\n",
            "Epoch 9/12\n",
            "800/800 [==============================] - 403s 504ms/step - loss: 1.5700 - acc: 0.4813 - val_loss: 1.1482 - val_acc: 0.6463\n",
            "Epoch 10/12\n",
            "800/800 [==============================] - 401s 502ms/step - loss: 1.4447 - acc: 0.5186 - val_loss: 1.0197 - val_acc: 0.6833\n",
            "Epoch 11/12\n",
            "800/800 [==============================] - 400s 500ms/step - loss: 1.3328 - acc: 0.5478 - val_loss: 0.9282 - val_acc: 0.7079\n",
            "Epoch 12/12\n",
            "800/800 [==============================] - 402s 502ms/step - loss: 1.2232 - acc: 0.5819 - val_loss: 0.8039 - val_acc: 0.7511\n",
            "dict_keys(['val_loss', 'val_acc', 'loss', 'acc'])\n"
          ],
          "name": "stdout"
        },
        {
          "output_type": "display_data",
          "data": {
            "image/png": "[encoded data removed]",
            "text/plain": [
              "<Figure size 432x288 with 1 Axes>"
            ]
          },
          "metadata": {
            "tags": []
          }
        },
        {
          "output_type": "display_data",
          "data": {
            "image/png": "[encoded data removed]",
            "text/plain": [
              "<Figure size 432x288 with 1 Axes>"
            ]
          },
          "metadata": {
            "tags": []
          }
        }
      ]
    },
    {
      "cell_type": "code",
      "metadata": {
        "id": "ZcrBhxCZ0joG",
        "colab_type": "code",
        "colab": {}
      },
      "source": [
        ""
      ],
      "execution_count": 0,
      "outputs": []
    }
  ]
}