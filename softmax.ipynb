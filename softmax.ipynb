{
  "nbformat": 4,
  "nbformat_minor": 0,
  "metadata": {
    "colab": {
      "name": "ASLoverfitting.ipynb",
      "version": "0.3.2",
      "provenance": [],
      "include_colab_link": true
    },
    "kernelspec": {
      "name": "python3",
      "display_name": "Python 3"
    },
    "accelerator": "GPU"
  },
  "cells": [
    {
      "cell_type": "markdown",
      "metadata": {
        "id": "view-in-github",
        "colab_type": "text"
      },
      "source": [
        "<a href=\"https://colab.research.google.com/github/JasmineGhumman/SignLanguageDetection/blob/master/softmax.ipynb\" target=\"_parent\"><img src=\"https://colab.research.google.com/assets/colab-badge.svg\" alt=\"Open In Colab\"/></a>"
      ]
    },
    {
      "cell_type": "code",
      "metadata": {
        "id": "xajr70eVz7M4",
        "colab_type": "code",
        "outputId": "4e03161e-0dce-479a-d8bd-fd8024747dc7",
        "colab": {
          "base_uri": "https://localhost:8080/",
          "height": 50
        }
      },
      "source": [
        "# Install the PyDrive wrapper & import libraries.\n",
        "# This only needs to be done once per notebook.\n",
        "!pip install -U -q PyDrive\n",
        "from pydrive.auth import GoogleAuth\n",
        "from pydrive.drive import GoogleDrive\n",
        "from google.colab import auth\n",
        "from oauth2client.client import GoogleCredentials\n",
        "\n",
        "# Authenticate and create the PyDrive client.\n",
        "# This only needs to be done once per notebook.\n",
        "auth.authenticate_user()\n",
        "gauth = GoogleAuth()\n",
        "gauth.credentials = GoogleCredentials.get_application_default()\n",
        "drive = GoogleDrive(gauth)\n",
        "\n"
      ],
      "execution_count": 3,
      "outputs": [
        {
          "output_type": "stream",
          "text": [
            "\u001b[?25l\r\u001b[K     |▎                               | 10kB 22.0MB/s eta 0:00:01\r\u001b[K     |▋                               | 20kB 27.6MB/s eta 0:00:01\r\u001b[K     |█                               | 30kB 33.0MB/s eta 0:00:01\r\u001b[K     |█▎                              | 40kB 36.8MB/s eta 0:00:01\r\u001b[K     |█▋                              | 51kB 41.2MB/s eta 0:00:01\r\u001b[K     |██                              | 61kB 44.7MB/s eta 0:00:01\r\u001b[K     |██▎                             | 71kB 46.9MB/s eta 0:00:01\r\u001b[K     |██▋                             | 81kB 48.7MB/s eta 0:00:01\r\u001b[K     |███                             | 92kB 50.0MB/s eta 0:00:01\r\u001b[K     |███▎                            | 102kB 51.5MB/s eta 0:00:01\r\u001b[K     |███▋                            | 112kB 51.5MB/s eta 0:00:01\r\u001b[K     |████                            | 122kB 51.5MB/s eta 0:00:01\r\u001b[K     |████▎                           | 133kB 51.5MB/s eta 0:00:01\r\u001b[K     |████▋                           | 143kB 51.5MB/s eta 0:00:01\r\u001b[K     |█████                           | 153kB 51.5MB/s eta 0:00:01\r\u001b[K     |█████▎                          | 163kB 51.5MB/s eta 0:00:01\r\u001b[K     |█████▋                          | 174kB 51.5MB/s eta 0:00:01\r\u001b[K     |██████                          | 184kB 51.5MB/s eta 0:00:01\r\u001b[K     |██████▎                         | 194kB 51.5MB/s eta 0:00:01\r\u001b[K     |██████▋                         | 204kB 51.5MB/s eta 0:00:01\r\u001b[K     |███████                         | 215kB 51.5MB/s eta 0:00:01\r\u001b[K     |███████▎                        | 225kB 51.5MB/s eta 0:00:01\r\u001b[K     |███████▋                        | 235kB 51.5MB/s eta 0:00:01\r\u001b[K     |████████                        | 245kB 51.5MB/s eta 0:00:01\r\u001b[K     |████████▎                       | 256kB 51.5MB/s eta 0:00:01\r\u001b[K     |████████▋                       | 266kB 51.5MB/s eta 0:00:01\r\u001b[K     |█████████                       | 276kB 51.5MB/s eta 0:00:01\r\u001b[K     |█████████▎                      | 286kB 51.5MB/s eta 0:00:01\r\u001b[K     |█████████▋                      | 296kB 51.5MB/s eta 0:00:01\r\u001b[K     |██████████                      | 307kB 51.5MB/s eta 0:00:01\r\u001b[K     |██████████▎                     | 317kB 51.5MB/s eta 0:00:01\r\u001b[K     |██████████▋                     | 327kB 51.5MB/s eta 0:00:01\r\u001b[K     |███████████                     | 337kB 51.5MB/s eta 0:00:01\r\u001b[K     |███████████▎                    | 348kB 51.5MB/s eta 0:00:01\r\u001b[K     |███████████▋                    | 358kB 51.5MB/s eta 0:00:01\r\u001b[K     |████████████                    | 368kB 51.5MB/s eta 0:00:01\r\u001b[K     |████████████▎                   | 378kB 51.5MB/s eta 0:00:01\r\u001b[K     |████████████▋                   | 389kB 51.5MB/s eta 0:00:01\r\u001b[K     |█████████████                   | 399kB 51.5MB/s eta 0:00:01\r\u001b[K     |█████████████▎                  | 409kB 51.5MB/s eta 0:00:01\r\u001b[K     |█████████████▋                  | 419kB 51.5MB/s eta 0:00:01\r\u001b[K     |██████████████                  | 430kB 51.5MB/s eta 0:00:01\r\u001b[K     |██████████████▎                 | 440kB 51.5MB/s eta 0:00:01\r\u001b[K     |██████████████▋                 | 450kB 51.5MB/s eta 0:00:01\r\u001b[K     |███████████████                 | 460kB 51.5MB/s eta 0:00:01\r\u001b[K     |███████████████▎                | 471kB 51.5MB/s eta 0:00:01\r\u001b[K     |███████████████▋                | 481kB 51.5MB/s eta 0:00:01\r\u001b[K     |████████████████                | 491kB 51.5MB/s eta 0:00:01\r\u001b[K     |████████████████▎               | 501kB 51.5MB/s eta 0:00:01\r\u001b[K     |████████████████▋               | 512kB 51.5MB/s eta 0:00:01\r\u001b[K     |█████████████████               | 522kB 51.5MB/s eta 0:00:01\r\u001b[K     |█████████████████▎              | 532kB 51.5MB/s eta 0:00:01\r\u001b[K     |█████████████████▋              | 542kB 51.5MB/s eta 0:00:01\r\u001b[K     |██████████████████              | 552kB 51.5MB/s eta 0:00:01\r\u001b[K     |██████████████████▎             | 563kB 51.5MB/s eta 0:00:01\r\u001b[K     |██████████████████▋             | 573kB 51.5MB/s eta 0:00:01\r\u001b[K     |███████████████████             | 583kB 51.5MB/s eta 0:00:01\r\u001b[K     |███████████████████▎            | 593kB 51.5MB/s eta 0:00:01\r\u001b[K     |███████████████████▋            | 604kB 51.5MB/s eta 0:00:01\r\u001b[K     |████████████████████            | 614kB 51.5MB/s eta 0:00:01\r\u001b[K     |████████████████████▎           | 624kB 51.5MB/s eta 0:00:01\r\u001b[K     |████████████████████▋           | 634kB 51.5MB/s eta 0:00:01\r\u001b[K     |█████████████████████           | 645kB 51.5MB/s eta 0:00:01\r\u001b[K     |█████████████████████▎          | 655kB 51.5MB/s eta 0:00:01\r\u001b[K     |█████████████████████▋          | 665kB 51.5MB/s eta 0:00:01\r\u001b[K     |██████████████████████          | 675kB 51.5MB/s eta 0:00:01\r\u001b[K     |██████████████████████▎         | 686kB 51.5MB/s eta 0:00:01\r\u001b[K     |██████████████████████▋         | 696kB 51.5MB/s eta 0:00:01\r\u001b[K     |███████████████████████         | 706kB 51.5MB/s eta 0:00:01\r\u001b[K     |███████████████████████▎        | 716kB 51.5MB/s eta 0:00:01\r\u001b[K     |███████████████████████▋        | 727kB 51.5MB/s eta 0:00:01\r\u001b[K     |████████████████████████        | 737kB 51.5MB/s eta 0:00:01\r\u001b[K     |████████████████████████▎       | 747kB 51.5MB/s eta 0:00:01\r\u001b[K     |████████████████████████▋       | 757kB 51.5MB/s eta 0:00:01\r\u001b[K     |████████████████████████▉       | 768kB 51.5MB/s eta 0:00:01\r\u001b[K     |█████████████████████████▏      | 778kB 51.5MB/s eta 0:00:01\r\u001b[K     |█████████████████████████▌      | 788kB 51.5MB/s eta 0:00:01\r\u001b[K     |█████████████████████████▉      | 798kB 51.5MB/s eta 0:00:01\r\u001b[K     |██████████████████████████▏     | 808kB 51.5MB/s eta 0:00:01\r\u001b[K     |██████████████████████████▌     | 819kB 51.5MB/s eta 0:00:01\r\u001b[K     |██████████████████████████▉     | 829kB 51.5MB/s eta 0:00:01\r\u001b[K     |███████████████████████████▏    | 839kB 51.5MB/s eta 0:00:01\r\u001b[K     |███████████████████████████▌    | 849kB 51.5MB/s eta 0:00:01\r\u001b[K     |███████████████████████████▉    | 860kB 51.5MB/s eta 0:00:01\r\u001b[K     |████████████████████████████▏   | 870kB 51.5MB/s eta 0:00:01\r\u001b[K     |████████████████████████████▌   | 880kB 51.5MB/s eta 0:00:01\r\u001b[K     |████████████████████████████▉   | 890kB 51.5MB/s eta 0:00:01\r\u001b[K     |█████████████████████████████▏  | 901kB 51.5MB/s eta 0:00:01\r\u001b[K     |█████████████████████████████▌  | 911kB 51.5MB/s eta 0:00:01\r\u001b[K     |█████████████████████████████▉  | 921kB 51.5MB/s eta 0:00:01\r\u001b[K     |██████████████████████████████▏ | 931kB 51.5MB/s eta 0:00:01\r\u001b[K     |██████████████████████████████▌ | 942kB 51.5MB/s eta 0:00:01\r\u001b[K     |██████████████████████████████▉ | 952kB 51.5MB/s eta 0:00:01\r\u001b[K     |███████████████████████████████▏| 962kB 51.5MB/s eta 0:00:01\r\u001b[K     |███████████████████████████████▌| 972kB 51.5MB/s eta 0:00:01\r\u001b[K     |███████████████████████████████▉| 983kB 51.5MB/s eta 0:00:01\r\u001b[K     |████████████████████████████████| 993kB 51.5MB/s \n",
            "\u001b[?25h  Building wheel for PyDrive (setup.py) ... \u001b[?25l\u001b[?25hdone\n"
          ],
          "name": "stdout"
        }
      ]
    },
    {
      "cell_type": "code",
      "metadata": {
        "id": "JKoCYjq60jTx",
        "colab_type": "code",
        "colab": {}
      },
      "source": [
        "# Download a file based on its file ID.\n",
        "#\n",
        "# A file ID looks like: laggVyWshwcyP6kEI-y_W3P8D26sz\n",
        "'''\n",
        "file_id = '1sNVHpcnPHZiDaSQ6DhhxY1ZbdEByi5gk'\n",
        "downloaded = drive.CreateFile({'id': file_id})\n",
        "print('Downloaded content \"{}\"'.format(downloaded.GetContentString()))\n",
        "'''\n",
        "\n",
        "fid = drive.ListFile({'q':\"title='mydata.zip'\"}).GetList()[0]['id']\n",
        "f = drive.CreateFile({'id': fid})\n",
        "f.GetContentFile('mydata.zip')"
      ],
      "execution_count": 0,
      "outputs": []
    },
    {
      "cell_type": "code",
      "metadata": {
        "id": "FWRBb2ht0jkq",
        "colab_type": "code",
        "colab": {}
      },
      "source": [
        "!unzip mydata"
      ],
      "execution_count": 0,
      "outputs": []
    },
    {
      "cell_type": "code",
      "metadata": {
        "id": "j-hCzsmW0jv8",
        "colab_type": "code",
        "colab": {}
      },
      "source": [
        "import numpy as np # linear algebra\n",
        "import pandas as pd # data processing, CSV file I/O (e.g. pd.read_csv)\n",
        "\n",
        "# Input data files are available in the \"../input/\" directory.\n",
        "# For example, running this (by clicking run or pressing Shift+Enter) will list the files in the input directory\n",
        "\n",
        "import os\n",
        "\n",
        "\n",
        "# Any results you write to the current directory are saved as output.import numpy as np # linear algebra\n"
      ],
      "execution_count": 0,
      "outputs": []
    },
    {
      "cell_type": "code",
      "metadata": {
        "id": "PM0kNvpG0j29",
        "colab_type": "code",
        "outputId": "f38eeeae-b8c8-4b15-cc09-9f41ccd76597",
        "colab": {
          "base_uri": "https://localhost:8080/",
          "height": 34
        }
      },
      "source": [
        "#!pip uninstall keras\n",
        "#!pip install keras==2.0.9\n",
        "from keras.models import Sequential\n",
        "from keras.layers import Convolution2D\n",
        "from keras.layers import MaxPooling2D\n",
        "from keras.layers import Flatten\n",
        "from keras.layers import Dense, Dropout\n",
        "from keras import optimizers\n",
        "from keras.models import Model\n",
        "from keras.layers import (Activation, Dropout, Flatten, Dense, GlobalMaxPooling2D,GlobalAveragePooling2D,\n",
        "                          BatchNormalization, Input, Conv2D, Concatenate)\n",
        "'''from keras.applications import InceptionResNetV2\n",
        "conv_base= InceptionResNetV2(weights='imagenet',include_top=False,input_shape=(75,75,3))'''\n",
        "\n",
        "import keras\n",
        "import numpy as np\n",
        "from keras.applications.resnet50 import ResNet50"
      ],
      "execution_count": 7,
      "outputs": [
        {
          "output_type": "stream",
          "text": [
            "Using TensorFlow backend.\n"
          ],
          "name": "stderr"
        }
      ]
    },
    {
      "cell_type": "code",
      "metadata": {
        "id": "QFW5MMIX0j8A",
        "colab_type": "code",
        "outputId": "bf787d48-4184-418d-8606-669a1e461bde",
        "colab": {
          "base_uri": "https://localhost:8080/",
          "height": 222
        }
      },
      "source": [
        "res_weights_path = \"resnet50_weights.hd\"\n",
        "print(\"[INFO] loading ..\" )\n",
        "#model = ResNet50(include_top=False,input_shape=(64, 64, 3))\n",
        "base_model =ResNet50(weights='imagenet', include_top=False)\n",
        "#my_model_2 = ResNet50(weights='imagenet')\n",
        "#base_model.load_weights('../input/ResNet-50/resnet50_weights_tf_dim_ordering_tf_kernels_notop.h5')\n",
        "# include_top= False means that we won’t be keeping the Fully-Connected (FC) layers at the end of the model\n",
        "\n",
        "\n",
        "x0 = base_model.output\n",
        "x1 = GlobalAveragePooling2D()(x0)\n",
        "x2 = GlobalMaxPooling2D()(x0)\n",
        "x = Concatenate()([x1,x2])\n",
        "x = BatchNormalization()(x)\n",
        "x = Dropout(0.7)(x)\n",
        "x = Dense(2048, activation='relu')(x)\n",
        "x = BatchNormalization()(x)\n",
        "x = Dropout(0.7)(x)\n",
        "predictions = Dense(26, activation='softmax')(x)\n",
        "model = Model(inputs=base_model.input, outputs=predictions)"
      ],
      "execution_count": 8,
      "outputs": [
        {
          "output_type": "stream",
          "text": [
            "[INFO] loading ..\n",
            "WARNING:tensorflow:From /usr/local/lib/python3.6/dist-packages/tensorflow/python/framework/op_def_library.py:263: colocate_with (from tensorflow.python.framework.ops) is deprecated and will be removed in a future version.\n",
            "Instructions for updating:\n",
            "Colocations handled automatically by placer.\n"
          ],
          "name": "stdout"
        },
        {
          "output_type": "stream",
          "text": [
            "/usr/local/lib/python3.6/dist-packages/keras_applications/resnet50.py:265: UserWarning: The output shape of `ResNet50(include_top=False)` has been changed since Keras 2.2.0.\n",
            "  warnings.warn('The output shape of `ResNet50(include_top=False)` '\n"
          ],
          "name": "stderr"
        },
        {
          "output_type": "stream",
          "text": [
            "Downloading data from https://github.com/fchollet/deep-learning-models/releases/download/v0.2/resnet50_weights_tf_dim_ordering_tf_kernels_notop.h5\n",
            "94658560/94653016 [==============================] - 8s 0us/step\n",
            "WARNING:tensorflow:From /usr/local/lib/python3.6/dist-packages/keras/backend/tensorflow_backend.py:3445: calling dropout (from tensorflow.python.ops.nn_ops) with keep_prob is deprecated and will be removed in a future version.\n",
            "Instructions for updating:\n",
            "Please use `rate` instead of `keep_prob`. Rate should be set to `rate = 1 - keep_prob`.\n"
          ],
          "name": "stdout"
        }
      ]
    },
    {
      "cell_type": "code",
      "metadata": {
        "id": "zoJoCtvo0j1J",
        "colab_type": "code",
        "colab": {}
      },
      "source": [
        "for layer in model.layers:\n",
        "    layer.trainable = False\n",
        "\n",
        "for i in range(-6,0):\n",
        "    model.layers[i].trainable = True\n",
        "\n",
        "model.compile(\n",
        "    loss='binary_crossentropy',\n",
        "    optimizer=optimizers.SGD(lr = 0.01),metrics=['accuracy'])\n",
        "\n",
        "#model.summary()"
      ],
      "execution_count": 0,
      "outputs": []
    },
    {
      "cell_type": "code",
      "metadata": {
        "id": "FBKIX6vA0jzF",
        "colab_type": "code",
        "outputId": "967bc693-956f-4b77-f33c-d9ccf754eeae",
        "colab": {
          "base_uri": "https://localhost:8080/",
          "height": 50
        }
      },
      "source": [
        "#Part 2 Fittting the CNN to the image\n",
        "from keras.preprocessing.image import ImageDataGenerator\n",
        "train_datagen = ImageDataGenerator(\n",
        "        rescale=1./255,\n",
        "        shear_range=0.2,\n",
        "        zoom_range=0.2,\n",
        "        horizontal_flip=True)\n",
        "\n",
        "test_datagen = ImageDataGenerator(rescale=1./255)\n",
        "\n",
        "training_set = train_datagen.flow_from_directory(\n",
        "        'mydata/train',\n",
        "        target_size=(224, 224),\n",
        "        batch_size=32,\n",
        "        class_mode='categorical')\n",
        "\n",
        "test_set = test_datagen.flow_from_directory(\n",
        "        'mydata/test',\n",
        "        target_size=(224, 224),\n",
        "        batch_size=32,\n",
        "        class_mode='categorical')\n"
      ],
      "execution_count": 10,
      "outputs": [
        {
          "output_type": "stream",
          "text": [
            "Found 68250 images belonging to 26 classes.\n",
            "Found 9775 images belonging to 26 classes.\n"
          ],
          "name": "stdout"
        }
      ]
    },
    {
      "cell_type": "code",
      "metadata": {
        "id": "h_rb0NmZ0jtt",
        "colab_type": "code",
        "outputId": "937d0888-fb50-46d8-d89c-d86d3d49b8f6",
        "colab": {
          "base_uri": "https://localhost:8080/",
          "height": 423
        }
      },
      "source": [
        "moDel = model.fit_generator(\n",
        "        training_set,\n",
        "        steps_per_epoch=900,\n",
        "        epochs=10,\n",
        "        validation_data = test_set,\n",
        "        validation_steps = 200\n",
        "      )\n",
        "\n",
        "#Saving the model\n",
        "import h5py\n",
        "model.save('Trained_model.h5')\n",
        "modelcheckpoint = keras.callbacks.ModelCheckpoint(\"keras.model\",verbose=1)\n"
      ],
      "execution_count": 11,
      "outputs": [
        {
          "output_type": "stream",
          "text": [
            "WARNING:tensorflow:From /usr/local/lib/python3.6/dist-packages/tensorflow/python/ops/math_ops.py:3066: to_int32 (from tensorflow.python.ops.math_ops) is deprecated and will be removed in a future version.\n",
            "Instructions for updating:\n",
            "Use tf.cast instead.\n",
            "Epoch 1/10\n",
            "900/900 [==============================] - 412s 458ms/step - loss: 0.2407 - acc: 0.9483 - val_loss: 0.1827 - val_acc: 0.9615\n",
            "Epoch 2/10\n",
            "900/900 [==============================] - 401s 446ms/step - loss: 0.1925 - acc: 0.9520 - val_loss: 0.1830 - val_acc: 0.9615\n",
            "Epoch 3/10\n",
            "900/900 [==============================] - 403s 448ms/step - loss: 0.1596 - acc: 0.9563 - val_loss: 0.1856 - val_acc: 0.9615\n",
            "Epoch 4/10\n",
            "900/900 [==============================] - 404s 448ms/step - loss: 0.1380 - acc: 0.9598 - val_loss: 0.1876 - val_acc: 0.9615\n",
            "Epoch 5/10\n",
            "900/900 [==============================] - 405s 450ms/step - loss: 0.1243 - acc: 0.9626 - val_loss: 0.1888 - val_acc: 0.9615\n",
            "Epoch 6/10\n",
            "900/900 [==============================] - 403s 448ms/step - loss: 0.1108 - acc: 0.9651 - val_loss: 0.1899 - val_acc: 0.9615\n",
            "Epoch 7/10\n",
            "900/900 [==============================] - 402s 447ms/step - loss: 0.1025 - acc: 0.9672 - val_loss: 0.1928 - val_acc: 0.9615\n",
            "Epoch 8/10\n",
            "900/900 [==============================] - 404s 448ms/step - loss: 0.0954 - acc: 0.9693 - val_loss: 0.1934 - val_acc: 0.9615\n",
            "Epoch 9/10\n",
            "900/900 [==============================] - 405s 450ms/step - loss: 0.0888 - acc: 0.9706 - val_loss: 0.1958 - val_acc: 0.9615\n",
            "Epoch 10/10\n",
            "900/900 [==============================] - 403s 447ms/step - loss: 0.0845 - acc: 0.9719 - val_loss: 0.1949 - val_acc: 0.9615\n"
          ],
          "name": "stdout"
        }
      ]
    },
    {
      "cell_type": "code",
      "metadata": {
        "id": "BJ139fnP0jqP",
        "colab_type": "code",
        "colab": {}
      },
      "source": [
        "#download model from lhs files.Save on computer. t"
      ],
      "execution_count": 0,
      "outputs": []
    },
    {
      "cell_type": "code",
      "metadata": {
        "id": "ZcrBhxCZ0joG",
        "colab_type": "code",
        "colab": {}
      },
      "source": [
        ""
      ],
      "execution_count": 0,
      "outputs": []
    }
  ]
}